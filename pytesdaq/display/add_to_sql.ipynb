{
 "cells": [
  {
   "cell_type": "code",
   "execution_count": 1,
   "metadata": {
    "scrolled": true
   },
   "outputs": [],
   "source": [
    "import h5py\n",
    "import db\n",
    "import series\n",
    "\n",
    "\n",
    "from pprint import pprint\n",
    "\n",
    "\n",
    "def add_series_to_sql(series_name=None, series_num=None):\n",
    "    \n",
    "    ser = Series(series_name=series_name, series_num=series_num)\n",
    "    \n",
    "    series_info = ser.get_general_info()\n",
    "    \n",
    "    server = db.MySQLCore('pylelab_daq')\n",
    "    server.connect_test()\n",
    "    \n",
    "    server.insert('series', series_info)\n",
    "    \n",
    "    server.disconnect()\n",
    "    \n",
    "    \n",
    "   "
   ]
  },
  {
   "cell_type": "code",
   "execution_count": 4,
   "metadata": {},
   "outputs": [],
   "source": [
    "def add_group_to_sql(group_name, group_path):\n",
    "    \n",
    "    group = series.SeriesGroup(group_name, group_path)\n",
    "    \n",
    "    print(1)\n",
    "    \n",
    "    group_info, series_info = group.get_group_info(include_series_info=True)\n",
    "    \n",
    "    print(group_info)\n",
    "    \n",
    "    server = db.MySQLCore('pylelab_daq')\n",
    "    server.connect_test()\n",
    "    \n",
    "    print(\"connected\")\n",
    "    \n",
    "    server.insert('groups', group_info)\n",
    "    \n",
    "    for s in series_info:   \n",
    "        series_info[s].pop('ADC_config')\n",
    "        series_info[s].pop('detector_config')\n",
    "        series_info[s].pop('connection_table')\n",
    "        \n",
    "        #print(series_info[s])\n",
    "        \n",
    "        server.insert('series', series_info[s])\n",
    "    \n",
    "    server.disconnect()"
   ]
  },
  {
   "cell_type": "code",
   "execution_count": 3,
   "metadata": {},
   "outputs": [],
   "source": [
    "##### TESTING #####"
   ]
  },
  {
   "cell_type": "code",
   "execution_count": 17,
   "metadata": {},
   "outputs": [
    {
     "name": "stdout",
     "output_type": "stream",
     "text": [
      "1\n",
      "{'group_name': 'iv_didv_I2_D20211104_T084659', 'facility': 2, 'fridge_run': 12, 'nb_series': 76, 'nb_events': 304361, 'duration': 305.46, 'devices': 'CPDv2-Al2O3', 'data_types': '103, 102', 'data_purposes': 'dIdV, IV', 'group_comment': 'IV/dIdV sweep PT ON', 'timestamp': 1636040843}\n",
      "Database successfully connected!\n",
      "connected\n",
      "Database successfully disconnected.\n"
     ]
    }
   ],
   "source": [
    "#add_group_to_sql('exttrigger_I2_D20211110_T103901', '/sdata/runs/run12/raw')\n",
    "add_group_to_sql('iv_didv_I2_D20211104_T084659', '/sdata/runs/run12/raw')\n",
    "#add_group_to_sql('pton_didv_I2_D20211110_T114610', '/sdata/runs/run12/raw')\n",
    "\n"
   ]
  },
  {
   "cell_type": "code",
   "execution_count": 3,
   "metadata": {},
   "outputs": [
    {
     "name": "stdout",
     "output_type": "stream",
     "text": [
      "Database successfully connected!\n",
      "Database successfully disconnected.\n",
      "[{'group_name': 'pton_didv_I2_D20211110_T114610'}, {'group_name': 'exttrigger_I2_D20211110_T103901'}, {'group_name': 'iv_didv_I2_D20211104_T084659'}]\n"
     ]
    }
   ],
   "source": [
    "\n",
    "server = db.MySQLCore('pylelab_daq')\n",
    "server.connect_test()\n",
    "\n",
    "\n",
    "series = server.query(\"groups\", values=['group_name'])\n",
    "\n",
    "server.disconnect()\n",
    "\n",
    "\n",
    "print(series)"
   ]
  }
 ],
 "metadata": {
  "kernelspec": {
   "display_name": "Python 3",
   "language": "python",
   "name": "python3"
  },
  "language_info": {
   "codemirror_mode": {
    "name": "ipython",
    "version": 3
   },
   "file_extension": ".py",
   "mimetype": "text/x-python",
   "name": "python",
   "nbconvert_exporter": "python",
   "pygments_lexer": "ipython3",
   "version": "3.6.8"
  }
 },
 "nbformat": 4,
 "nbformat_minor": 4
}
