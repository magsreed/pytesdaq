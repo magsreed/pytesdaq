{
 "cells": [
  {
   "cell_type": "code",
   "execution_count": 10,
   "metadata": {
    "scrolled": true
   },
   "outputs": [],
   "source": [
    "import h5py\n",
    "import db\n",
    "import series\n",
    "\n",
    "\n",
    "from pprint import pprint\n",
    "\n",
    "\n",
    "def add_series_to_sql(series_name=None, series_num=None):\n",
    "    \n",
    "    ser = Series(series_name=series_name, series_num=series_num)\n",
    "    \n",
    "    series_info = ser.get_general_info()\n",
    "    \n",
    "    server = db.MySQLCore('pylelab_daq')\n",
    "    server.connect_test()\n",
    "    \n",
    "    server.insert('series', series_info)\n",
    "    \n",
    "    server.disconnect()\n",
    "    \n",
    "    \n",
    "   "
   ]
  },
  {
   "cell_type": "code",
   "execution_count": 11,
   "metadata": {},
   "outputs": [],
   "source": [
    "def add_group_to_sql(group_name, group_path):\n",
    "    \n",
    "    group = series.SeriesGroup(group_name, group_path)\n",
    "    \n",
    "    print(1)\n",
    "    \n",
    "    group_info, series_info = group.get_group_info(include_series_info=True)\n",
    "    \n",
    "    print(group_info)\n",
    "    \n",
    "    server = db.MySQLCore('pylelab_daq')\n",
    "    server.connect_test()\n",
    "    \n",
    "    print(\"connected\")\n",
    "    \n",
    "    server.insert('groups', group_info)\n",
    "    \n",
    "    for s in series_info:   \n",
    "        series_info[s].pop('ADC_config')\n",
    "        series_info[s].pop('detector_config')\n",
    "        series_info[s].pop('connection_table')\n",
    "        \n",
    "        #print(series_info[s])\n",
    "        \n",
    "        server.insert('series', series_info[s])\n",
    "    \n",
    "    server.disconnect()"
   ]
  },
  {
   "cell_type": "code",
   "execution_count": null,
   "metadata": {},
   "outputs": [],
   "source": []
  },
  {
   "cell_type": "code",
   "execution_count": 3,
   "metadata": {},
   "outputs": [],
   "source": [
    "def get_metadata(file_name):\n",
    "    \n",
    "    import hdf5\n",
    "    \n",
    "    hdf5 = hdf5.H5Core()\n",
    "    hdf5.set_files(file_name)\n",
    "    info = hdf5.get_file_info()\n",
    "    #pprint(info)\n",
    "    \n",
    "    nameset = ['id', 'series_name', 'series_num', 'facility', 'fridge_run', 'data_type',\n",
    "           'data_purpose', 'nb_events', 'nb_dumps', 'timestamp', 'comment']\n",
    "    keyset = {'data_type': 'run_type', 'data_purpose': 'run_mode' }\n",
    "    dataset = {}\n",
    "    \n",
    "    for name in nameset:\n",
    "        if name in keyset: \n",
    "            n = keyset[name]\n",
    "        else: n = name\n",
    "            \n",
    "        if n in info:  \n",
    "            dataset[name] = info[n]\n",
    "            print(\"insert\")\n",
    "            \n",
    "        else: dataset[name] = \"NULL\"\n",
    "            \n",
    "            \n",
    "    dataset['nb_events']=info['adc1']['nb_events']\n",
    "    sname = file_name.split('/')[-1][:-11]\n",
    "    dataset['series_name'] = sname\n",
    "    dataset['series_num'] = int(''.join((ch if ch in '0123456789' else '') for ch in sname))\n",
    "    \n",
    "    return dataset"
   ]
  },
  {
   "cell_type": "code",
   "execution_count": 17,
   "metadata": {},
   "outputs": [
    {
     "name": "stdout",
     "output_type": "stream",
     "text": [
      "1\n",
      "{'group_name': 'iv_didv_I2_D20211104_T084659', 'facility': 2, 'fridge_run': 12, 'nb_series': 76, 'nb_events': 304361, 'duration': 305.46, 'devices': 'CPDv2-Al2O3', 'data_types': '103, 102', 'data_purposes': 'dIdV, IV', 'group_comment': 'IV/dIdV sweep PT ON', 'timestamp': 1636040843}\n",
      "Database successfully connected!\n",
      "connected\n",
      "Database successfully disconnected.\n"
     ]
    }
   ],
   "source": [
    "#add_group_to_sql('exttrigger_I2_D20211110_T103901', '/sdata/runs/run12/raw')\n",
    "add_group_to_sql('iv_didv_I2_D20211104_T084659', '/sdata/runs/run12/raw')\n",
    "#add_group_to_sql('pton_didv_I2_D20211110_T114610', '/sdata/runs/run12/raw')\n",
    "\n"
   ]
  },
  {
   "cell_type": "code",
   "execution_count": 13,
   "metadata": {},
   "outputs": [
    {
     "name": "stdout",
     "output_type": "stream",
     "text": [
      "Database successfully connected!\n",
      "Database successfully disconnected.\n",
      "[{'group_name': 'exttrigger_I2_D20211110_T103901'}, {'group_name': 'iv_didv_I2_D20211104_T084659'}]\n"
     ]
    }
   ],
   "source": [
    "\n",
    "server = db.MySQLCore('pylelab_daq')\n",
    "server.connect_test()\n",
    "\n",
    "\n",
    "series = server.query(\"groups\", values=['group_name'])\n",
    "\n",
    "server.disconnect()\n",
    "\n",
    "\n",
    "print(series)"
   ]
  },
  {
   "cell_type": "code",
   "execution_count": 4,
   "metadata": {},
   "outputs": [
    {
     "name": "stdout",
     "output_type": "stream",
     "text": [
      "Database successfully connected!\n"
     ]
    }
   ],
   "source": [
    "server = db.MySQLCore('pylelab_daq')\n",
    "server.connect_test()\n"
   ]
  },
  {
   "cell_type": "code",
   "execution_count": 7,
   "metadata": {},
   "outputs": [
    {
     "name": "stdout",
     "output_type": "stream",
     "text": [
      "Database successfully disconnected.\n"
     ]
    }
   ],
   "source": [
    "server.disconnect()"
   ]
  },
  {
   "cell_type": "code",
   "execution_count": 30,
   "metadata": {},
   "outputs": [
    {
     "name": "stdout",
     "output_type": "stream",
     "text": [
      "insert\n",
      "insert\n",
      "insert\n",
      "20210324104549\n",
      "mod\n"
     ]
    }
   ],
   "source": [
    "#### FINAL LOOP ####\n",
    "\n",
    "table_name = 'test'\n",
    "#for file in folder:\n",
    "fname = \"trigger_I2_D20210324_T104549_F0003.hdf5\"\n",
    "dataset = get_metadata(fname)\n",
    "sname = fname.split('/')[-1][:-11]\n",
    "timestamp = int(''.join((ch if ch in '0123456789' else '') for ch in sname)[1:])\n",
    "\n",
    "print(timestamp)\n",
    "\n",
    "last = int(server.get_last(table_name))\n",
    "\n",
    "if timestamp >= last: \n",
    "    server_query = next((item for item in server.query(table_name, [\"series_name\"])\n",
    "                         if item[\"series_name\"] == sname), None)\n",
    "    if server_query:\n",
    "        server.modify(table_name, dataset)\n",
    "        print(\"mod\")\n",
    "    else:\n",
    "        server.insert(table_name, dataset)\n",
    "        print(\"add\")\n",
    "        \n",
    "        # for new files: iterate thru all files of a series, compare new number of dumps to old, edit num. dumps and num. events  \n"
   ]
  },
  {
   "cell_type": "code",
   "execution_count": 15,
   "metadata": {},
   "outputs": [
    {
     "name": "stdout",
     "output_type": "stream",
     "text": [
      "[{'group_name': 'testdaq_I2_D20211108_T225300', 'facility': 2, 'fridge_run': 12, 'data_types': '1', 'data_purposes': 'Test', 'duration': 2, 'devices': 'CPDv2-Al2O3', 'timestamp': 1636440784, 'nb_series': 2, 'nb_events': 122, 'group_comment': 'Continuous data PT ON, ~27% Rn, 2 weeks since at base'}, {'group_name': 'testdaq_I2_D20211108_T225300', 'facility': 2, 'fridge_run': 12, 'data_types': '1', 'data_purposes': 'Test', 'duration': 2, 'devices': 'CPDv2-Al2O3', 'timestamp': 1636440784, 'nb_series': 2, 'nb_events': 122, 'group_comment': 'Continuous data PT ON, ~27% Rn, 2 weeks since at base'}, {'group_name': 'testdaq_I2_D20211108_T225300', 'facility': 2, 'fridge_run': 12, 'data_types': '1', 'data_purposes': 'Test', 'duration': 2, 'devices': 'CPDv2-Al2O3', 'timestamp': 1636440784, 'nb_series': 2, 'nb_events': 122, 'group_comment': 'Continuous data PT ON, ~27% Rn, 2 weeks since at base'}, {'group_name': 'testdaq_I2_D20211108_T225300', 'facility': 2, 'fridge_run': 12, 'data_types': '1', 'data_purposes': 'Test', 'duration': 2, 'devices': 'CPDv2-Al2O3', 'timestamp': 1636440784, 'nb_series': 2, 'nb_events': 122, 'group_comment': 'Continuous data PT ON, ~27% Rn, 2 weeks since at base'}, {'group_name': 'testdaq_I2_D20211108_T225300', 'facility': 2, 'fridge_run': 12, 'data_types': '1', 'data_purposes': 'Test', 'duration': 2, 'devices': 'CPDv2-Al2O3', 'timestamp': 1636440784, 'nb_series': 2, 'nb_events': 122, 'group_comment': 'Continuous data PT ON, ~27% Rn, 2 weeks since at base'}]\n"
     ]
    }
   ],
   "source": [
    "grouplist = server.query(\"groups\")\n",
    "def search(dic):\n",
    "        return dic['group_name']\n",
    "\n",
    "grouplist.sort(key=search)\n",
    "print(grouplist)"
   ]
  },
  {
   "cell_type": "code",
   "execution_count": 3,
   "metadata": {},
   "outputs": [
    {
     "name": "stdout",
     "output_type": "stream",
     "text": [
      "You have an error in your SQL syntax; check the manual that corresponds to your MariaDB server version for the right syntax to use near 'DECLARE @last INT' at line 1\n"
     ]
    },
    {
     "data": {
      "text/plain": [
       "[]"
      ]
     },
     "execution_count": 3,
     "metadata": {},
     "output_type": "execute_result"
    }
   ],
   "source": [
    "server.set_last('1234')"
   ]
  },
  {
   "cell_type": "code",
   "execution_count": null,
   "metadata": {},
   "outputs": [],
   "source": [
    "### PAST ATTEMPTS ###\n",
    "\n",
    " hdf5 = hdf5.H5Core()\n",
    "    hdf5.set_files(file_name)\n",
    "    info = hdf5.get_file_info()\n",
    "    pprint(info)\n",
    "    \n",
    "    nameset = ['id', 'series_name', 'series_num', 'facility', 'fridge_run', 'data_type',\n",
    "           'data_purpose', 'nb_events', 'nb_dumps', 'timestamp', 'comment']\n",
    "    keyset = {'data_type': 'run_type', 'data_purpose': 'run_mode' }\n",
    "    dataset = {}\n",
    "    \n",
    "    for name in nameset:\n",
    "        print(name)\n",
    "        if name in keyset: \n",
    "            n = keyset[name]\n",
    "        else: n = name\n",
    "            \n",
    "        if n in info:  \n",
    "            dataset[name] = info[n]\n",
    "            print(\"insert\")\n",
    "            \n",
    "        else: dataset[name] = \"NULL\"\n",
    "            \n",
    "            \n",
    "    dataset['nb_events']=info['adc1']['nb_events']\n",
    "    dataset['series_name'] = file_name.split('/')[-1][:-11]\n",
    "    \n",
    "    server = MySQLCore('pylelab_daq')\n",
    "    server.connect_test()\n",
    "    \n",
    "    server.insert('test', dataset)\n",
    "    print(dataset)\n",
    "    \n",
    "    server.disconnect()"
   ]
  }
 ],
 "metadata": {
  "kernelspec": {
   "display_name": "Python 3",
   "language": "python",
   "name": "python3"
  },
  "language_info": {
   "codemirror_mode": {
    "name": "ipython",
    "version": 3
   },
   "file_extension": ".py",
   "mimetype": "text/x-python",
   "name": "python",
   "nbconvert_exporter": "python",
   "pygments_lexer": "ipython3",
   "version": "3.6.8"
  }
 },
 "nbformat": 4,
 "nbformat_minor": 4
}
