{
 "cells": [
  {
   "cell_type": "code",
   "execution_count": 1,
   "metadata": {
    "scrolled": true
   },
   "outputs": [],
   "source": [
    "import h5py\n",
    "import db\n",
    "import series\n",
    "\n",
    "\n",
    "from pprint import pprint\n",
    "\n",
    "\n",
    "def add_series_to_sql(series_name=None, series_num=None):\n",
    "    \n",
    "    ser = Series(series_name=series_name, series_num=series_num)\n",
    "    \n",
    "    series_info = ser.get_general_info()\n",
    "    \n",
    "    server = db.MySQLCore('pylelab_daq')\n",
    "    server.connect_test()\n",
    "    \n",
    "    server.insert('series', series_info)\n",
    "    \n",
    "    server.disconnect()\n",
    "    \n",
    "    \n",
    "   "
   ]
  },
  {
   "cell_type": "code",
   "execution_count": 2,
   "metadata": {},
   "outputs": [],
   "source": [
    "def add_group_to_sql(group_name, group_path):\n",
    "    \n",
    "    group = series.SeriesGroup(group_name, group_path)\n",
    "    \n",
    "    print(1)\n",
    "    \n",
    "    group_info, series_info = group.get_group_info(include_series_info=True, json_format=True)\n",
    "    \n",
    "    print(group_info)\n",
    "    \n",
    "    server = db.MySQLCore('pylelab_daq')\n",
    "    server.connect_test()\n",
    "    \n",
    "    print(\"connected\")\n",
    "    \n",
    "    server.insert('groups', group_info)\n",
    "    \n",
    "    for s in series_info:   \n",
    "        #series_info[s].pop('ADC_config')\n",
    "        #series_info[s].pop('detector_config')\n",
    "        #series_info[s].pop('connection_table')\n",
    "        \n",
    "        #print(series_info[s])\n",
    "        \n",
    "        server.insert('series', series_info[s])\n",
    "    \n",
    "    server.disconnect()"
   ]
  },
  {
   "cell_type": "code",
   "execution_count": 3,
   "metadata": {},
   "outputs": [],
   "source": [
    "##### TESTING #####"
   ]
  },
  {
   "cell_type": "code",
   "execution_count": 3,
   "metadata": {},
   "outputs": [
    {
     "name": "stdout",
     "output_type": "stream",
     "text": [
      "1\n",
      "{'group_name': 'pton_didv_I2_D20211110_T114610', 'facility': 2, 'fridge_run': 12, 'nb_series': 1, 'nb_events': 1008, 'duration': 1.0, 'devices': 'CPDv2-Al2O3', 'data_types': '1', 'data_purposes': 'Test', 'group_comment': 'PT ON dIdV data', 'timestamp': 1636573573}\n",
      "Database successfully connected!\n",
      "connected\n",
      "INSERT INTO groups (group_name,facility,fridge_run,nb_series,nb_events,duration,devices,data_types,data_purposes,group_comment,timestamp) VALUES ('pton_didv_I2_D20211110_T114610','2','12',1,'1008','1.0','CPDv2-Al2O3','1','Test','PT ON dIdV data','1636573573');\n",
      "INSERT INTO series (series_name,series_num,group_name,group_comment,facility,fridge_run,devices,comment,nb_dumps,nb_events,data_type,data_purpose,duration,timestamp,ADC_config,detector_config,connection_table) VALUES ('I2_D20211110_T114611','220211110114611','pton_didv_I2_D20211110_T114610','PT ON dIdV data','2','12','CPDv2-Al2O3','PT ON dIdV data ',1,'1008','1','Test','1.0','1636573573','{\n",
      "    \"CPDv2-Al2O3\": {\n",
      "        \"ADC name\": \"adc1\",\n",
      "        \"ADC channel\": \"3\",\n",
      "        \"Wiring channel\": \"D\",\n",
      "        \"Controller channel\": \"feb1_D\",\n",
      "        \"Nb samples\": \"62500\",\n",
      "        \"Sample rate\": \"1250000.0\",\n",
      "        \"Voltage min\": \"-10.0\",\n",
      "        \"Voltage max\": \"10.0\"\n",
      "    }\n",
      "}','{\n",
      "    \"CPDv2-Al2O3\": {\n",
      "        \"TES bias [uA]\": \"24.3\",\n",
      "        \"SQUID bias [uA]\": \"-92.45\",\n",
      "        \"Lock point [mV]\": \"4.47\",\n",
      "        \"Driver gain\": \"50.0\",\n",
      "        \"Normalization\": \"625000.0\",\n",
      "        \"Feedback mode\": \"close\",\n",
      "        \"SG on/off\": \"on\",\n",
      "        \"SG source\": \"tes\",\n",
      "        \"SG amplitude [uA]\": \"1.0\",\n",
      "        \"SG frequency [Hz]\": \"50.0\"\n",
      "    }\n",
      "}','  adc_id adc_channel detector_channel tes_channel controller_id  \\\n",
      "0   adc1           3      CPDv2-Al2O3           D          feb1   \n",
      "\n",
      "  controller_channel  \n",
      "0                  D  ');\n",
      "Database successfully disconnected.\n"
     ]
    }
   ],
   "source": [
    "#add_group_to_sql('exttrigger_I2_D20211110_T103901', '/sdata/runs/run12/raw')\n",
    "#add_group_to_sql('iv_didv_I2_D20211104_T084659', '/sdata/runs/run12/raw')\n",
    "add_group_to_sql('pton_didv_I2_D20211110_T114610', '/sdata/runs/run12/raw')\n",
    "\n"
   ]
  },
  {
   "cell_type": "code",
   "execution_count": 7,
   "metadata": {},
   "outputs": [
    {
     "name": "stdout",
     "output_type": "stream",
     "text": [
      "Database successfully connected!\n",
      "Unknown column 'pton_didv_I2_D20211110_T114610' in 'field list'\n",
      "Database successfully disconnected.\n",
      "[]\n"
     ]
    }
   ],
   "source": [
    "\n",
    "server = db.MySQLCore('pylelab_daq')\n",
    "server.connect_test()\n",
    "\n",
    "\n",
    "series = server.query('series', ['group_name', 'pton_didv_I2_D20211110_T114610'])\n",
    "\n",
    "server.disconnect()\n",
    "\n",
    "\n",
    "print(series)"
   ]
  },
  {
   "cell_type": "code",
   "execution_count": 10,
   "metadata": {},
   "outputs": [
    {
     "name": "stdout",
     "output_type": "stream",
     "text": [
      "{'I2_D20211110_T114611': {'series_name': 'I2_D20211110_T114611', 'series_num': 220211110114611, 'group_name': 'pton_didv_I2_D20211110_T114610', 'group_comment': 'PT ON dIdV data', 'facility': 2, 'fridge_run': 12, 'devices': 'CPDv2-Al2O3', 'comment': 'PT ON dIdV data ', 'nb_dumps': 1, 'nb_events': 1008, 'data_type': 1, 'data_purpose': 'Test', 'duration': 1.0, 'timestamp': 1636573573, 'ADC_config': '{\\n    \"CPDv2-Al2O3\": {\\n        \"ADC name\": \"adc1\",\\n        \"ADC channel\": \"3\",\\n        \"Wiring channel\": \"D\",\\n        \"Controller channel\": \"feb1_D\",\\n        \"Nb samples\": \"62500\",\\n        \"Sample rate\": \"1250000.0\",\\n        \"Voltage min\": \"-10.0\",\\n        \"Voltage max\": \"10.0\"\\n    }\\n}', 'detector_config': '{\\n    \"CPDv2-Al2O3\": {\\n        \"TES bias [uA]\": \"24.3\",\\n        \"SQUID bias [uA]\": \"-92.45\",\\n        \"Lock point [mV]\": \"4.47\",\\n        \"Driver gain\": \"50.0\",\\n        \"Normalization\": \"625000.0\",\\n        \"Feedback mode\": \"close\",\\n        \"SG on/off\": \"on\",\\n        \"SG source\": \"tes\",\\n        \"SG amplitude [uA]\": \"1.0\",\\n        \"SG frequency [Hz]\": \"50.0\"\\n    }\\n}', 'connection_table':   adc_id adc_channel detector_channel tes_channel controller_id  \\\n",
      "0   adc1           3      CPDv2-Al2O3           D          feb1   \n",
      "\n",
      "  controller_channel  \n",
      "0                  D  }}\n",
      "{'CPDv2-Al2O3': {'TES bias [uA]': '24.3', 'SQUID bias [uA]': '-92.45', 'Lock point [mV]': '4.47', 'Driver gain': '50.0', 'Normalization': '625000.0', 'Feedback mode': 'close', 'SG on/off': 'on', 'SG source': 'tes', 'SG amplitude [uA]': '1.0', 'SG frequency [Hz]': '50.0'}}\n",
      "<table border=\"1\"><tr><th>CPDv2-Al2O3</th><td><table border=\"1\"><tr><th>TES bias [uA]</th><td>24.3</td></tr><tr><th>SQUID bias [uA]</th><td>-92.45</td></tr><tr><th>Lock point [mV]</th><td>4.47</td></tr><tr><th>Driver gain</th><td>50.0</td></tr><tr><th>Normalization</th><td>625000.0</td></tr><tr><th>Feedback mode</th><td>close</td></tr><tr><th>SG on/off</th><td>on</td></tr><tr><th>SG source</th><td>tes</td></tr><tr><th>SG amplitude [uA]</th><td>1.0</td></tr><tr><th>SG frequency [Hz]</th><td>50.0</td></tr></table></td></tr></table>\n"
     ]
    }
   ],
   "source": [
    "import json\n",
    "import json2html\n",
    "\n",
    "finalseries = {}\n",
    "finalseries['detector_config'] = \"\"\"{\n",
    "    \"CPDv2-Al2O3\": {\n",
    "        \"TES bias [uA]\": \"24.3\",\n",
    "        \"SQUID bias [uA]\": \"-92.45\",\n",
    "        \"Lock point [mV]\": \"4.47\",\n",
    "        \"Driver gain\": \"50.0\",\n",
    "        \"Normalization\": \"625000.0\",\n",
    "        \"Feedback mode\": \"close\",\n",
    "        \"SG on/off\": \"on\",\n",
    "        \"SG source\": \"tes\",\n",
    "        \"SG amplitude [uA]\": \"1.0\",\n",
    "        \"SG frequency [Hz]\": \"50.0\"\n",
    "    }\n",
    "}\"\"\"\n",
    "\n",
    "group = series.SeriesGroup('pton_didv_I2_D20211110_T114610', '/sdata/runs/run12/raw')\n",
    "group_info, series_info = group.get_group_info(include_series_info=True, json_format=True)\n",
    "\n",
    "print(series_info)\n",
    "det_con= json.loads(series_info['I2_D20211110_T114611'].pop('detector_config'))\n",
    "\n",
    "print(det_con)\n",
    "\n",
    "det_con_html = json2html.json2html.convert(det_con)\n",
    "\n",
    "print(det_con_html)"
   ]
  },
  {
   "cell_type": "code",
   "execution_count": null,
   "metadata": {},
   "outputs": [],
   "source": []
  }
 ],
 "metadata": {
  "kernelspec": {
   "display_name": "Python 3",
   "language": "python",
   "name": "python3"
  },
  "language_info": {
   "codemirror_mode": {
    "name": "ipython",
    "version": 3
   },
   "file_extension": ".py",
   "mimetype": "text/x-python",
   "name": "python",
   "nbconvert_exporter": "python",
   "pygments_lexer": "ipython3",
   "version": "3.6.8"
  }
 },
 "nbformat": 4,
 "nbformat_minor": 4
}
