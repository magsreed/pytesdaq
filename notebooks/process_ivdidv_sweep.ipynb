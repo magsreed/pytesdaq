{
 "cells": [
  {
   "cell_type": "markdown",
   "metadata": {},
   "source": [
    "# Processing IV/dIdV sweeps with `pytesdaq`\n",
    "-----\n",
    "The processing will extract relevant features and place them in a pandas DataFrame for further post-processing by the IVanalysis class.\n",
    "\n",
    "__Authors__: Caleb Fink, Samuel Watkins"
   ]
  },
  {
   "cell_type": "code",
   "execution_count": 1,
   "metadata": {},
   "outputs": [],
   "source": [
    "import pandas as pd\n",
    "import time as tm\n",
    "from glob import glob\n",
    "\n",
    "from pytesdaq.processing import process_ivsweep"
   ]
  },
  {
   "cell_type": "code",
   "execution_count": 2,
   "metadata": {},
   "outputs": [],
   "source": [
    "savepath = '/where/the/processed/data/should/be/saved/'\n",
    "sweeppath = '/Folder/where/all/there/series/for/IV/sweep/are/saved/'\n",
    "savename = 'name_to_save_DF_as'\n",
    "chans = ['PES2']"
   ]
  },
  {
   "cell_type": "code",
   "execution_count": 3,
   "metadata": {},
   "outputs": [
    {
     "name": "stdout",
     "output_type": "stream",
     "text": [
      "There are 66 files.\n"
     ]
    }
   ],
   "source": [
    "nfiles = len(glob(f'{sweeppath}*'))\n",
    "print(f\"There are {nfiles} files.\")"
   ]
  },
  {
   "cell_type": "code",
   "execution_count": 4,
   "metadata": {},
   "outputs": [
    {
     "name": "stdout",
     "output_type": "stream",
     "text": [
      "IV sweep took  23.042 min to process\n"
     ]
    }
   ],
   "source": [
    "start_time = tm.time()\n",
    "df = process_ivsweep(\n",
    "    ivfilepath=sweeppath,\n",
    "    chans=chans,\n",
    "    lgcverbose=False, # Switch to True to know which file its on\n",
    "    lgcsave=True,\n",
    "    savepath=savepath,\n",
    "    savename=savename,\n",
    ")\n",
    "end_time = tm.time()\n",
    "\n",
    "print(f'IV sweep took {(end_time - start_time)/60: .3f} min to process')"
   ]
  },
  {
   "cell_type": "markdown",
   "metadata": {},
   "source": [
    "## Post-process the DataFrame with `IVanalysis`"
   ]
  },
  {
   "cell_type": "code",
   "execution_count": 6,
   "metadata": {},
   "outputs": [],
   "source": [
    "from pytesdaq.processing import IVanalysis"
   ]
  },
  {
   "cell_type": "markdown",
   "metadata": {},
   "source": [
    "To post-process the saved dataframe one must first load the saved `pickle` file. It is not recommended to do this in the same notebook as the processing step above, as the above, in principle, should only be run once.\n",
    "\n",
    "To load via `pickle` and start the post-processing, the user may take advantage of Pandas:"
   ]
  },
  {
   "cell_type": "code",
   "execution_count": 7,
   "metadata": {},
   "outputs": [],
   "source": [
    "df = pd.read_pickle('/path/to/where/the/processed/data/was/stored/file.pkl')\n",
    "    \n",
    "IVobj = IVanalysis(\n",
    "    df, \n",
    "    nnorm=5, # number of points in normal region\n",
    "    nsc=5, # number of points in superconducting region\n",
    ")"
   ]
  },
  {
   "cell_type": "code",
   "execution_count": 8,
   "metadata": {},
   "outputs": [
    {
     "data": {
      "text/plain": [
       "\u001b[0;31mSignature:\u001b[0m\n",
       "\u001b[0mIVanalysis\u001b[0m\u001b[0;34m.\u001b[0m\u001b[0m__init__\u001b[0m\u001b[0;34m(\u001b[0m\u001b[0;34m\u001b[0m\n",
       "\u001b[0;34m\u001b[0m    \u001b[0mself\u001b[0m\u001b[0;34m,\u001b[0m\u001b[0;34m\u001b[0m\n",
       "\u001b[0;34m\u001b[0m    \u001b[0mdf\u001b[0m\u001b[0;34m,\u001b[0m\u001b[0;34m\u001b[0m\n",
       "\u001b[0;34m\u001b[0m    \u001b[0mnnorm\u001b[0m\u001b[0;34m,\u001b[0m\u001b[0;34m\u001b[0m\n",
       "\u001b[0;34m\u001b[0m    \u001b[0mnsc\u001b[0m\u001b[0;34m,\u001b[0m\u001b[0;34m\u001b[0m\n",
       "\u001b[0;34m\u001b[0m    \u001b[0mntran\u001b[0m\u001b[0;34m=\u001b[0m\u001b[0;32mNone\u001b[0m\u001b[0;34m,\u001b[0m\u001b[0;34m\u001b[0m\n",
       "\u001b[0;34m\u001b[0m    \u001b[0mchannels\u001b[0m\u001b[0;34m=\u001b[0m\u001b[0;32mNone\u001b[0m\u001b[0;34m,\u001b[0m\u001b[0;34m\u001b[0m\n",
       "\u001b[0;34m\u001b[0m    \u001b[0mchannelname\u001b[0m\u001b[0;34m=\u001b[0m\u001b[0;34m''\u001b[0m\u001b[0;34m,\u001b[0m\u001b[0;34m\u001b[0m\n",
       "\u001b[0;34m\u001b[0m    \u001b[0mrshunt\u001b[0m\u001b[0;34m=\u001b[0m\u001b[0;36m0.005\u001b[0m\u001b[0;34m,\u001b[0m\u001b[0;34m\u001b[0m\n",
       "\u001b[0;34m\u001b[0m    \u001b[0mrshunt_err\u001b[0m\u001b[0;34m=\u001b[0m\u001b[0;36m0.00025\u001b[0m\u001b[0;34m,\u001b[0m\u001b[0;34m\u001b[0m\n",
       "\u001b[0;34m\u001b[0m    \u001b[0mtbath\u001b[0m\u001b[0;34m=\u001b[0m\u001b[0;36m0\u001b[0m\u001b[0;34m,\u001b[0m\u001b[0;34m\u001b[0m\n",
       "\u001b[0;34m\u001b[0m    \u001b[0mtbath_err\u001b[0m\u001b[0;34m=\u001b[0m\u001b[0;36m0\u001b[0m\u001b[0;34m,\u001b[0m\u001b[0;34m\u001b[0m\n",
       "\u001b[0;34m\u001b[0m    \u001b[0mtc\u001b[0m\u001b[0;34m=\u001b[0m\u001b[0;36m0\u001b[0m\u001b[0;34m,\u001b[0m\u001b[0;34m\u001b[0m\n",
       "\u001b[0;34m\u001b[0m    \u001b[0mtc_err\u001b[0m\u001b[0;34m=\u001b[0m\u001b[0;36m0\u001b[0m\u001b[0;34m,\u001b[0m\u001b[0;34m\u001b[0m\n",
       "\u001b[0;34m\u001b[0m    \u001b[0mGta\u001b[0m\u001b[0;34m=\u001b[0m\u001b[0;36m0\u001b[0m\u001b[0;34m,\u001b[0m\u001b[0;34m\u001b[0m\n",
       "\u001b[0;34m\u001b[0m    \u001b[0mGta_err\u001b[0m\u001b[0;34m=\u001b[0m\u001b[0;36m0\u001b[0m\u001b[0;34m,\u001b[0m\u001b[0;34m\u001b[0m\n",
       "\u001b[0;34m\u001b[0m    \u001b[0mib_err\u001b[0m\u001b[0;34m=\u001b[0m\u001b[0;32mNone\u001b[0m\u001b[0;34m,\u001b[0m\u001b[0;34m\u001b[0m\n",
       "\u001b[0;34m\u001b[0m    \u001b[0mlgcremove_badseries\u001b[0m\u001b[0;34m=\u001b[0m\u001b[0;32mTrue\u001b[0m\u001b[0;34m,\u001b[0m\u001b[0;34m\u001b[0m\n",
       "\u001b[0;34m\u001b[0m    \u001b[0mfigsavepath\u001b[0m\u001b[0;34m=\u001b[0m\u001b[0;34m''\u001b[0m\u001b[0;34m,\u001b[0m\u001b[0;34m\u001b[0m\n",
       "\u001b[0;34m\u001b[0m\u001b[0;34m)\u001b[0m\u001b[0;34m\u001b[0m\u001b[0;34m\u001b[0m\u001b[0m\n",
       "\u001b[0;31mDocstring:\u001b[0m\n",
       "Initialization of IVanalysis object. Note, currently only\n",
       "single channel analysis is supported.\n",
       "\n",
       "Parameters\n",
       "----------\n",
       "df : Pandas.core.DataFrame\n",
       "    DataFrame of a processed IV/dIdV sweep returned from \n",
       "    rqpy._process_iv_didv.process_ivsweep().\n",
       "nnorm : int\n",
       "    Number bias values where the TES was normal,\n",
       "    Note: count only one per noise and didv point (don't double\n",
       "    count!)\n",
       "nsc : int\n",
       "    Number of bias values where the TES was Super Conducting,\n",
       "    Note: count only one per noise and didv point (don't double\n",
       "    count!)\n",
       "ntran : range object, NoneType, optional\n",
       "    The range of the transition data points.\n",
       "    If ntran is None, then it is left as the total-(nnorm+nsc)\n",
       "channels : list, optional\n",
       "    A list of strings correponding to the channels to analyze. \n",
       "    Note, currently only single channel analysis is supported\n",
       "channelname : str, optional\n",
       "    This is used if the user wished to label the channel as\n",
       "    something other than the stored channel name.\n",
       "        e.g. channel = PBS1, channelname = PD2\n",
       "rshunt : float, optional\n",
       "    The value of the shunt resistor in Ohms.\n",
       "rshunt_err : float, optional\n",
       "    The unccertainty in the value of the shunt resistor.\n",
       "tbath : float, optional\n",
       "    The temperature of the detector stack in Kelvin.\n",
       "tbath_err : float, optional\n",
       "    The unccertainty in the temperature of the detector stack\n",
       "    in Kelvin.\n",
       "tc : float, optional\n",
       "    The temperature of the SC transition for the TES.\n",
       "tc_err : float, optional\n",
       "    The unccertainty in the temperature of the SC transition\n",
       "    for the TES.\n",
       "Gta : float, optional\n",
       "    The theremal conductance between the TES and the absorber.\n",
       "ib_err : float, optional\n",
       "    The error in the bias current\n",
       "lgcremove_badseries : bool, optional\n",
       "    If True, series where the SQUID lost lock, or the amplifier\n",
       "    railed are removed.\n",
       "figsavepath : str, optional\n",
       "    The path to the directory where the figures should be\n",
       "    saved.\n",
       "\u001b[0;31mFile:\u001b[0m      ~/.local/lib/python3.6/site-packages/pytesdaq/processing/_iv_didv_tools.py\n",
       "\u001b[0;31mType:\u001b[0m      function\n"
      ]
     },
     "metadata": {},
     "output_type": "display_data"
    }
   ],
   "source": [
    "IVanalysis.__init__?"
   ]
  },
  {
   "cell_type": "markdown",
   "metadata": {},
   "source": [
    "The general order of each of the class's methods usually follows as below. When doing this analysis, the user should read the docstrings and understand all of the optional arguments. Otherwise the outputs may be nonsensical, as each analysis is unique."
   ]
  },
  {
   "cell_type": "code",
   "execution_count": 9,
   "metadata": {},
   "outputs": [],
   "source": [
    "# IV curves\n",
    "IVobj.analyze_sweep()\n",
    "# dIdV fitting\n",
    "IVobj.fit_rload_rn()\n",
    "IVobj.fit_tran_didv()\n",
    "# noise modeling\n",
    "IVobj.fit_normal_noise()\n",
    "IVobj.fit_sc_noise()\n",
    "IVobj.model_noise_simple()\n",
    "# estimate expected baseline energy resolution\n",
    "IVobj.estimate_noise_errors()\n",
    "IVobj.find_optimum_bias()"
   ]
  }
 ],
 "metadata": {
  "hide_input": false,
  "kernelspec": {
   "display_name": "Python 3",
   "language": "python",
   "name": "python3"
  },
  "language_info": {
   "codemirror_mode": {
    "name": "ipython",
    "version": 3
   },
   "file_extension": ".py",
   "mimetype": "text/x-python",
   "name": "python",
   "nbconvert_exporter": "python",
   "pygments_lexer": "ipython3",
   "version": "3.6.8"
  },
  "latex_envs": {
   "LaTeX_envs_menu_present": true,
   "autoclose": false,
   "autocomplete": true,
   "bibliofile": "biblio.bib",
   "cite_by": "apalike",
   "current_citInitial": 1,
   "eqLabelWithNumbers": true,
   "eqNumInitial": 1,
   "hotkeys": {
    "equation": "Ctrl-E",
    "itemize": "Ctrl-I"
   },
   "labels_anchors": false,
   "latex_user_defs": false,
   "report_style_numbering": false,
   "user_envs_cfg": false
  },
  "toc": {
   "base_numbering": 1,
   "nav_menu": {},
   "number_sections": true,
   "sideBar": true,
   "skip_h1_title": true,
   "title_cell": "Table of Contents",
   "title_sidebar": "Contents",
   "toc_cell": true,
   "toc_position": {},
   "toc_section_display": true,
   "toc_window_display": false
  }
 },
 "nbformat": 4,
 "nbformat_minor": 4
}
