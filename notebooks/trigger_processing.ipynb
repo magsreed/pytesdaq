{
 "cells": [
  {
   "cell_type": "markdown",
   "id": "5dcdbe7f",
   "metadata": {},
   "source": [
    "# Threshold Trigger Processing Notebook\n",
    "-----------\n",
    "Import the needed packages."
   ]
  },
  {
   "cell_type": "code",
   "execution_count": 1,
   "id": "6060c445",
   "metadata": {},
   "outputs": [],
   "source": [
    "# packages\n",
    "from pytesdaq.processing import ContinuousData\n",
    "from pytesdaq.config import Config\n",
    "from pprint import pprint\n",
    "import matplotlib.pyplot as plt\n",
    "# ignore warnings\n",
    "import warnings\n",
    "warnings.filterwarnings('ignore')"
   ]
  },
  {
   "cell_type": "markdown",
   "id": "97462911",
   "metadata": {},
   "source": [
    "## Trigger processing parameters"
   ]
  },
  {
   "cell_type": "code",
   "execution_count": 2,
   "id": "4f7253da",
   "metadata": {
    "scrolled": true
   },
   "outputs": [],
   "source": [
    "# If a processing .ini file exist, the parameters can be loaded with pytesdaq, for example\n",
    "#config_inst = Config(setup_file='/home/serfass/workspace/pytesdaq/pytesdaq/config/processing.ini')\n",
    "#setup_dict= config_inst.get_processing_setup()\n",
    "#pprint(setup_dict)\n",
    "\n",
    "# Input continuous data path (path to the entire group)\n",
    "# By default all the series in the group path are used. If only a subset of series needed, use\n",
    "# \"input_series\" parameters, example \n",
    "# input_series = ['I2_D20211012_T004538', 'I2_D20211012_T011549']\n",
    "# OR input_series = 'even' or 'odd' (if data taken with split-series argument)\n",
    "#input_group_path =  '/sdata1/runs/run11/raw/continuous_20211011_2244'\n",
    "input_group_path = '/sdata1/runs/run17/raw/continuous_I2_D20220503_T103447'\n",
    "input_series = None\n",
    "\n",
    "\n",
    "# Output data group prefix (default: 'threshtrigger')\n",
    "# By default, base path is same as continuous data. Use \"output_base_path\" to change path\n",
    "output_group_prefix = 'testproc'\n",
    "# output_base_path = '/a/path'\n",
    "output_base_path = None\n",
    "\n",
    "# If group already exist, for example if randoms have already been produced but not trigger\n",
    "# use \"output_group_name\" parameter\n",
    "output_group_name = None\n",
    "# output_group_name = 'testproc_I2_D20211203_T201921'\n",
    "\n",
    "# Output group comment (default: use comment from continuous data)\n",
    "# It is store in the trigger files metadata\n",
    "output_group_comment = 'Whatever comment '\n",
    "\n",
    "# Trigger data trace length (number of samples OR millisec)\n",
    "trace_length_ms = 20\n",
    "pretrigger_length_ms = 10\n",
    "nb_samples = None\n",
    "nb_samples_pretrigger = None\n",
    "\n",
    "# channel(s) to trigger (Default: sum of  all channels)\n",
    "#    Use + for sum of channels\n",
    "#    Use Detector channels OR  ADC number (for ADC #, range 0-1 (=0,1 not 0+1) allowed)\n",
    "# Examples:\n",
    "# trigger_channels = ['DetChan1', 'DetChan2', 'DetChan3+DetChan4']\n",
    "trigger_channels = ['0','2']\n",
    "#trigger_channels = ['TES100x400_W2', 'TES100x400_W1+TES200x800_W2', 'TES200x800_W1']\n",
    "\n",
    "\n",
    "# Filter file (if already produced), see below for format\n",
    "filter_file = None\n",
    "\n",
    "\n",
    "# Flag to invert pulse if negative pulse continuous data (and sign of  output gain not negative)\n",
    "# (trigger algorithm only works with positive pulse)\n",
    "is_negative_pulse = False\n",
    "\n"
   ]
  },
  {
   "cell_type": "markdown",
   "id": "076f18ea",
   "metadata": {},
   "source": [
    "## Instantiate ContinuousData"
   ]
  },
  {
   "cell_type": "code",
   "execution_count": 3,
   "id": "9c476d61",
   "metadata": {
    "scrolled": false
   },
   "outputs": [],
   "source": [
    "data_inst = ContinuousData(\n",
    "        input_group_path,\n",
    "        input_series=input_series,\n",
    "        output_group_prefix=output_group_prefix,\n",
    "        output_group_comment=output_group_comment,\n",
    "        output_base_path=output_base_path,\n",
    "        output_group_name=output_group_name,\n",
    "        trigger_channels=trigger_channels,\n",
    "        trace_length_ms=trace_length_ms,\n",
    "        pretrigger_length_ms=pretrigger_length_ms,\n",
    "        nb_samples=nb_samples,\n",
    "        nb_samples_pretrigger=nb_samples_pretrigger,\n",
    "        negative_pulse=is_negative_pulse,\n",
    "        filter_file=filter_file\n",
    "    )\n",
    "    "
   ]
  },
  {
   "cell_type": "markdown",
   "id": "ada2000c",
   "metadata": {},
   "source": [
    "##  Acquisition of random data"
   ]
  },
  {
   "cell_type": "code",
   "execution_count": 4,
   "id": "4e4b63ad",
   "metadata": {},
   "outputs": [
    {
     "name": "stdout",
     "output_type": "stream",
     "text": [
      "\n",
      "INFO: Checking continuous data files\n",
      "INFO: Randomly selecting 500 traces out of 30000 possible choices\n",
      "INFO: Acquiring randoms!\n",
      "INFO: Opening file name \"/sdata1/runs/run17/raw/testproc_I2_D20220630_T131507/rand_I2_D20220630_T131510_F0001.hdf5\"\n",
      "INFO: Number of randoms = 50\n",
      "INFO: Number of randoms = 100\n",
      "INFO: Number of randoms = 150\n",
      "INFO: Number of randoms = 200\n",
      "INFO: Number of randoms = 250\n",
      "INFO: Number of randoms = 300\n",
      "INFO: Number of randoms = 350\n",
      "INFO: Number of randoms = 400\n",
      "INFO: Number of randoms = 450\n",
      "INFO: Number of randoms = 500\n",
      "INFO: Done acquiring randoms!\n"
     ]
    }
   ],
   "source": [
    "# acquire 500 randomly selected from the entire continuous data\n",
    "data_inst.acquire_randoms(nb_events=500)"
   ]
  },
  {
   "cell_type": "markdown",
   "id": "d4712d52",
   "metadata": {},
   "source": [
    "## PSD and Template calculation"
   ]
  },
  {
   "cell_type": "code",
   "execution_count": 5,
   "id": "13e1e251",
   "metadata": {},
   "outputs": [
    {
     "name": "stdout",
     "output_type": "stream",
     "text": [
      "\n",
      "INFO: Starting PSD processing\n",
      "INFO: PSD for ADC channel/combination 0. Autocuts efficiency=0.45\n",
      "INFO: PSD for ADC channel/combination 2. Autocuts efficiency=0.942\n",
      "INFO: Saving filter file \"/sdata1/runs/run17/raw/testproc_I2_D20220630_T131507/I2_D20220630_T131507_filter.pickle\"\n",
      "\n",
      "Filter file data:\n",
      "{'f': [array([   0.,   50.,  100., ..., -150., -100.,  -50.]),\n",
      "       array([   0.,   50.,  100., ..., -150., -100.,  -50.])],\n",
      " 'f_fold': [array([0.0000e+00, 5.0000e+01, 1.0000e+02, ..., 6.2490e+05, 6.2495e+05,\n",
      "       6.2500e+05]),\n",
      "            array([0.0000e+00, 5.0000e+01, 1.0000e+02, ..., 6.2490e+05, 6.2495e+05,\n",
      "       6.2500e+05])],\n",
      " 'psd': [array([1.32032498e-14, 9.26869642e-22, 7.70089638e-22, ...,\n",
      "       6.05071610e-22, 7.70089638e-22, 9.26869642e-22]),\n",
      "         array([9.46347788e-15, 8.32404125e-22, 4.49920523e-22, ...,\n",
      "       6.10373739e-22, 4.49920523e-22, 8.32404125e-22])],\n",
      " 'psd_fold': [array([1.32032498e-14, 1.85373928e-21, 1.54017928e-21, ...,\n",
      "       2.27133165e-22, 1.56802730e-22, 7.15754790e-23]),\n",
      "              array([9.46347788e-15, 1.66480825e-21, 8.99841045e-22, ...,\n",
      "       4.86799553e-22, 3.83143780e-22, 1.71294520e-22])],\n",
      " 'template': [array([0.00000000e+000, 0.00000000e+000, 0.00000000e+000, ...,\n",
      "       1.22370889e-144, 1.19150791e-144, 1.16015427e-144]),\n",
      "              array([0.00000000e+000, 0.00000000e+000, 0.00000000e+000, ...,\n",
      "       1.22370889e-144, 1.19150791e-144, 1.16015427e-144])],\n",
      " 'trigger_channels': ['0', '2']}\n"
     ]
    },
    {
     "data": {
      "text/plain": [
       "Text(0.5, 1.0, 'PSDs')"
      ]
     },
     "execution_count": 5,
     "metadata": {},
     "output_type": "execute_result"
    },
    {
     "data": {
      "image/png": "[encoded data removed]",
      "text/plain": [
       "<Figure size 720x432 with 1 Axes>"
      ]
     },
     "metadata": {
      "needs_background": "light"
     },
     "output_type": "display_data"
    }
   ],
   "source": [
    "# create template with specific risetime and falltime \n",
    "#  rise_time/fall_time [in millisec] can be either single value (float) if same for each trigger channels\n",
    "#  or an array with length = number of trigger channels\n",
    "# \n",
    "# Filter file needs to contains a dictionary with:\n",
    "#  'trigger_channels': string or list of string (should match trigger_channels from ContinuousData)\n",
    "#  'psd' and 'template': array or list of array if multiple trigger channels\n",
    "#  (optional) f,f_fold, psd_fold\n",
    "rise_time = 20\n",
    "fall_time = 30\n",
    "data_inst.create_template(rise_time=rise_time,\n",
    "                          fall_time=fall_time)\n",
    "\n",
    "# calculate PSD\n",
    "# PSD/template file can be saved (pickle file saved in trigger data directory, name automatically created)\n",
    "# a subset of random events can be used (nb_events)\n",
    "data_inst.calc_psd(nb_events=-1,\n",
    "                   save_filter=True)\n",
    "\n",
    "# check PSD / template \n",
    "filter_data = data_inst.get_psd_data()\n",
    "print('\\nFilter file data:')\n",
    "pprint(filter_data)\n",
    "\n",
    "# plot\n",
    "fig, ax = plt.subplots(figsize=(10, 6))\n",
    "\n",
    "# channels\n",
    "channels = filter_data['trigger_channels']\n",
    "if not isinstance(channels, list):\n",
    "    channels = [channels]\n",
    "for ichan in range(0, len(channels)):\n",
    "    chan_name = channels[ichan]\n",
    "    ax.loglog(filter_data['f_fold'][ichan], filter_data['psd_fold'][ichan]**0.5, \n",
    "            label=f'Channel: {chan_name}')\n",
    "       \n",
    "ax.legend()\n",
    "ax.tick_params(which=\"both\", direction=\"in\", right=True, top=True)\n",
    "ax.grid(which=\"minor\", linestyle=\"dotted\")\n",
    "ax.grid(which=\"major\")\n",
    "ax.set_title(\"PSDs\")"
   ]
  },
  {
   "cell_type": "markdown",
   "id": "3cd74d83",
   "metadata": {},
   "source": [
    "## Acquire threshold trigger"
   ]
  },
  {
   "cell_type": "code",
   "execution_count": 6,
   "id": "8859f62e",
   "metadata": {
    "scrolled": true
   },
   "outputs": [
    {
     "name": "stdout",
     "output_type": "stream",
     "text": [
      "\n",
      "INFO: Starting trigger processing!\n",
      "INFO: Total number of files to be processed = 5\n",
      "INFO: Processing with be split on 4 cores!\n",
      "INFO: Opening file name \"/sdata1/runs/run17/raw/testproc_I2_D20220630_T131507/threshtrig_I2_D20220630_T131611_F0001.hdf5\"\n",
      "INFO: Opening file name \"/sdata1/runs/run17/raw/testproc_I2_D20220630_T131507/threshtrig_I2_D20220630_T131613_F0001.hdf5\"\n",
      "INFO: Opening file name \"/sdata1/runs/run17/raw/testproc_I2_D20220630_T131507/threshtrig_I2_D20220630_T131610_F0001.hdf5\"\n",
      "INFO: Opening file name \"/sdata1/runs/run17/raw/testproc_I2_D20220630_T131507/threshtrig_I2_D20220630_T131612_F0001.hdf5\"\n",
      "INFO: Number of triggers = 50\n",
      "INFO: Number of triggers = 50\n",
      "INFO: Number of triggers = 50\n",
      "INFO: Number of triggers = 50\n",
      "INFO: Number of triggers = 100\n",
      "INFO: Number of triggers = 100\n",
      "INFO: Number of triggers = 100\n",
      "INFO: Number of triggers = 100\n",
      "INFO: Processing done!\n"
     ]
    }
   ],
   "source": [
    "# number of trigger events (-1 for all available triggers)\n",
    "nb_events = 500\n",
    "# threshold [sigma]: either float if same all trigger channels or a list with same length as number channels\n",
    "threshold = 10\n",
    "# window size to merge events (pile-up) in usec (if None: 1/2 tracelength)\n",
    "pileup_window = None\n",
    "# coincident window in usec ( for merging coincident events on channels from chan_to_trigger)\n",
    "coincident_window = 50\n",
    "# (optional) noise_psd     \n",
    "# number of cores (for parallel processing)    \n",
    "nb_cores = 4\n",
    "    \n",
    "data_inst.acquire_trigger(nb_events=nb_events,\n",
    "                          threshold=threshold,\n",
    "                          pileup_window=pileup_window,\n",
    "                          coincident_window=coincident_window,\n",
    "                          nb_cores=nb_cores)\n",
    "                        "
   ]
  },
  {
   "cell_type": "code",
   "execution_count": null,
   "id": "226b0214",
   "metadata": {},
   "outputs": [],
   "source": []
  }
 ],
 "metadata": {
  "kernelspec": {
   "display_name": "Python 3",
   "language": "python",
   "name": "python3"
  },
  "language_info": {
   "codemirror_mode": {
    "name": "ipython",
    "version": 3
   },
   "file_extension": ".py",
   "mimetype": "text/x-python",
   "name": "python",
   "nbconvert_exporter": "python",
   "pygments_lexer": "ipython3",
   "version": "3.6.8"
  }
 },
 "nbformat": 4,
 "nbformat_minor": 5
}
