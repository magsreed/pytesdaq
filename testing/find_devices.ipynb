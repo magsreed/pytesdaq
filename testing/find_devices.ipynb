{
 "cells": [
  {
   "cell_type": "code",
   "execution_count": null,
   "id": "77b70881",
   "metadata": {},
   "outputs": [],
   "source": [
    "# Find list of devices connected\n",
    "import pyvisa\n",
    "\n",
    "rm = pyvisa.ResourceManager()\n",
    "\n",
    "resources = rm.list_resources()\n",
    "\n",
    "for resource in resources:\n",
    "    print(resource)\n",
    "    \n",
    "    \n",
    "# The output of the `list_resources()` method will be a list of strings, each of which\n",
    "# corresponds to a different resource. In this case, there is only one resource, which\n",
    "# is a USB device."
   ]
  },
  {
   "cell_type": "code",
   "execution_count": null,
   "id": "1cd4d6de",
   "metadata": {},
   "outputs": [],
   "source": [
    "# connect to first device\n",
    "\n",
    "device = rm.open_resource(resources[0])\n",
    "\n",
    "# The `open_resource()` method returns a `pyvisa.Instrument` object, which can be used to send\n",
    "# commands to the device.\n",
    "\n",
    "device.write('*IDN?')\n",
    "\n",
    "# The `write()` method sends a command to the device. In this case, the command is\n",
    "# the *IDN? command, which requests the device's identification string.\n",
    "\n",
    "response = device.read()\n",
    "\n",
    "# The `read()` method reads the response from the device. In this case, the response\n",
    "# is the device's identification string.\n",
    "\n",
    "print(response)\n",
    "\n",
    "# The output of the `read()` method will be the device's identification string.\n",
    "\n",
    "device.close()\n",
    "\n",
    "# The `close()` method closes the resource, which releases any resources that the\n",
    "# device is using. "
   ]
  }
 ],
 "metadata": {
  "kernelspec": {
   "display_name": "Python 3",
   "language": "python",
   "name": "python3"
  },
  "language_info": {
   "codemirror_mode": {
    "name": "ipython",
    "version": 3
   },
   "file_extension": ".py",
   "mimetype": "text/x-python",
   "name": "python",
   "nbconvert_exporter": "python",
   "pygments_lexer": "ipython3",
   "version": "3.6.8"
  }
 },
 "nbformat": 4,
 "nbformat_minor": 5
}
